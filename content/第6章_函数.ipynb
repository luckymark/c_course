{
 "cells": [
  {
   "cell_type": "markdown",
   "id": "cf18e06f",
   "metadata": {},
   "source": [
    "# 函数\n",
    "\n",
    "在 C 语言中，**函数** 是完成特定任务的一段代码，其他代码可以通过函数名多次调用函数。  \n",
    "\n",
    "它能提高代码的可重用性和可读性。\n",
    "\n",
    "C 程序从 `main` 函数开始执行。"
   ]
  },
  {
   "cell_type": "markdown",
   "id": "94f5b24f-3223-4fa6-86a7-33a13e520bd3",
   "metadata": {},
   "source": [
    "## 1. 函数定义\n",
    "\n",
    "```c\n",
    "返回值类型 函数名(参数列表) {\n",
    "    // 函数体\n",
    "    return 返回值;\n",
    "}\n",
    "```"
   ]
  },
  {
   "cell_type": "markdown",
   "id": "d657861f-bd71-4970-a1e3-fb1f76b70839",
   "metadata": {},
   "source": [
    "## 2. 函数调用"
   ]
  },
  {
   "cell_type": "code",
   "execution_count": 1,
   "id": "3a031a6a",
   "metadata": {},
   "outputs": [
    {
     "name": "stdout",
     "output_type": "stream",
     "text": [
      "结果: 8\n"
     ]
    }
   ],
   "source": [
    "// 示例：求两个数的和\n",
    "#include <stdio.h>\n",
    "\n",
    "// 定义add函数\n",
    "int add(int a, int b) {\n",
    "    return a + b;\n",
    "}\n",
    "\n",
    "{\n",
    "    //调用add函数\n",
    "    int result = add(3, 5);\n",
    "    printf(\"结果: %d\\n\", result);\n",
    "}"
   ]
  },
  {
   "cell_type": "markdown",
   "id": "dbfe0389",
   "metadata": {},
   "source": [
    "## 3. 函数参数\n",
    "\n",
    "在 C 中，函数参数都是“值传递”，函数获得的是实参的副本（copy），该副本被称为形参，对形参的修改不会影响实参（原变量）。"
   ]
  },
  {
   "cell_type": "code",
   "execution_count": 2,
   "id": "050e85ec-6697-471c-896e-3f9b840315db",
   "metadata": {},
   "outputs": [
    {
     "name": "stdout",
     "output_type": "stream",
     "text": [
      "x = 10\n",
      "a = 5\n"
     ]
    }
   ],
   "source": [
    "void change(int x) { //此处x称为函数的形参\n",
    "    x = 10;\n",
    "    printf(\"x = %d\\n\", x);  // x = 10\n",
    "}\n",
    "\n",
    "{\n",
    "    int a = 5;\n",
    "    change(a); //此处，a称为实参\n",
    "    printf(\"a = %d\\n\", a);  // a = 5 a没有改变\n",
    "}"
   ]
  },
  {
   "cell_type": "markdown",
   "id": "c135b8d7-33eb-45e8-9a79-d9d19c1d745b",
   "metadata": {},
   "source": [
    "使用指针修改实参"
   ]
  },
  {
   "cell_type": "code",
   "execution_count": 3,
   "id": "78db9b76-9aef-4ca9-a147-c60b2013b8aa",
   "metadata": {},
   "outputs": [
    {
     "name": "stdout",
     "output_type": "stream",
     "text": [
      "10\n"
     ]
    }
   ],
   "source": [
    "void change2(int *x) {\n",
    "    *x = 10;\n",
    "}\n",
    "\n",
    "{\n",
    "    int a = 5;\n",
    "    change2(&a);   //scanf函数传参时与此相同，需要传入变量的地址\n",
    "    printf(\"%d\\n\", a);  // 修改为 10\n",
    "}"
   ]
  },
  {
   "cell_type": "markdown",
   "id": "ca979981-ef78-4746-86e6-8bdc8db2c88d",
   "metadata": {},
   "source": [
    "## 4. 函数返回值\n",
    "\n",
    "函数可以返回一个值，也可以返回 void 表示无返回值。"
   ]
  },
  {
   "cell_type": "code",
   "execution_count": 4,
   "id": "2b31984a-4aa6-496f-af43-4820f538e9c9",
   "metadata": {},
   "outputs": [
    {
     "name": "stdout",
     "output_type": "stream",
     "text": [
      "Hello, C!\n",
      "x = 100\n"
     ]
    }
   ],
   "source": [
    "int square(int x) {\n",
    "    return x * x;\n",
    "}\n",
    "\n",
    "void hello(int x) {\n",
    "    printf(\"Hello, C!\\n\");\n",
    "    printf(\"x = %d\\n\",x);\n",
    "}\n",
    "\n",
    "{\n",
    "    int y = square(10);\n",
    "    hello(y);\n",
    "}"
   ]
  },
  {
   "cell_type": "markdown",
   "id": "575d2ecb-9145-4858-b690-deeb8646a8bb",
   "metadata": {},
   "source": [
    "## 5. 变量作用域\n",
    "\t•\t局部变量：在函数内部定义，只能在该函数使用。\n",
    "\t•\t全局变量：在函数外定义，所有函数都能访问。"
   ]
  },
  {
   "cell_type": "code",
   "execution_count": 5,
   "id": "1c8f2e60-9aac-4461-8b62-f77cc4ddfefd",
   "metadata": {},
   "outputs": [],
   "source": [
    "int global = 100; // 全局变量\n",
    "\n",
    "void test() {\n",
    "    int local = 10; // 局部变量\n",
    "    printf(\"local=%d, global=%d\\n\", local, global);\n",
    "}"
   ]
  },
  {
   "cell_type": "markdown",
   "id": "90bde1c5-14d0-4bf9-9e29-41a18772be08",
   "metadata": {},
   "source": [
    "## 6. 递归函数\n",
    "\n",
    "函数可以调用自身，这就是递归。常用于数学计算、数据结构遍历。"
   ]
  },
  {
   "cell_type": "code",
   "execution_count": 6,
   "id": "75b7fc37-a074-4d98-9076-b97b67d4e6e5",
   "metadata": {},
   "outputs": [
    {
     "name": "stdout",
     "output_type": "stream",
     "text": [
      "120\n",
      "55\n"
     ]
    }
   ],
   "source": [
    "// 示例：阶乘\n",
    "int factorial(int n) {\n",
    "    if (n == 1) return 1;\n",
    "    return n * factorial(n - 1);\n",
    "}\n",
    "\n",
    "//示例：斐波那契数列\n",
    "int fib(int n) {\n",
    "    if (n <= 2) return 1;\n",
    "    return fib(n-1) + fib(n-2);\n",
    "}\n",
    "\n",
    "{\n",
    "    printf(\"%d\\n\", factorial(5)); // 输出 120\n",
    "    printf(\"%d\\n\", fib(10)); // 输出 55\n",
    "}"
   ]
  },
  {
   "cell_type": "markdown",
   "id": "59fcac18-2cd5-432c-a742-1780c8f35a1d",
   "metadata": {},
   "source": [
    "## 小结\n",
    "\t•\t函数由 函数头（返回类型、函数名、参数） 和 函数体 组成；\n",
    "\t•\t参数传递为 值传递；\n",
    "    •\t可通过 指针 间接实现对外部参数的修改；\n",
    "\t•\t变量作用域分为 局部 和 全局；\n",
    "\t•\t函数可以是 递归函数，适合分治问题。"
   ]
  }
 ],
 "metadata": {
  "kernelspec": {
   "display_name": "C++17",
   "language": "cpp",
   "name": "xcpp17"
  },
  "language_info": {
   "codemirror_mode": "text/x-c++src",
   "file_extension": ".cpp",
   "mimetype": "text/x-c++src",
   "name": "C++",
   "version": "17"
  }
 },
 "nbformat": 4,
 "nbformat_minor": 5
}
