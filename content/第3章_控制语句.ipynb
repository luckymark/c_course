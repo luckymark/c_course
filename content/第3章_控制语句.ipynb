{
 "cells": [
  {
   "cell_type": "markdown",
   "id": "f01e37f6",
   "metadata": {
    "editable": true,
    "slideshow": {
     "slide_type": ""
    },
    "tags": []
   },
   "source": [
    "# C语言控制语句\n",
    "\n",
    "在 C 语言中，控制语句用于 **决定程序的执行流程**。主要包括：\n",
    "\n",
    "- 条件判断语句（`if` / `switch`）\n",
    "- 循环语句（`while` / `do while` / `for`）\n",
    "- 跳转语句（`break` / `continue` / `goto`）\n",
    "\n",
    "---\n",
    "\n",
    "## 1. if 语句\n",
    "\n",
    "```c\n",
    "if (条件表达式) {\n",
    "    // 当条件为真时执行\n",
    "}\n",
    "\n",
    "if (条件表达式) {\n",
    "    // 条件为真时执行\n",
    "} else {\n",
    "    // 条件为假时执行\n",
    "}\n",
    "\n",
    "if (条件1) {\n",
    "    // 条件1为真\n",
    "} else if (条件2) {\n",
    "    // 条件2为真\n",
    "} else {\n",
    "    // 上面条件都不满足时执行\n",
    "}\n",
    "```\n",
    "✅ 示例："
   ]
  },
  {
   "cell_type": "code",
   "execution_count": 1,
   "id": "39e96863-14a9-450b-819e-1a3f93989a2d",
   "metadata": {},
   "outputs": [
    {
     "name": "stdout",
     "output_type": "stream",
     "text": [
      "及格\n"
     ]
    }
   ],
   "source": [
    "#include <stdio.h>\n",
    "{\n",
    "    int score = 85;\n",
    "    if (score >= 90) {\n",
    "        printf(\"优秀\\n\");\n",
    "    } else if (score >= 60) {\n",
    "        printf(\"及格\\n\");\n",
    "    } else {\n",
    "        printf(\"不及格\\n\");\n",
    "    }\n",
    "}"
   ]
  },
  {
   "cell_type": "markdown",
   "id": "31ee48dc-88e4-4a30-adc5-2d58b164ef9f",
   "metadata": {},
   "source": [
    "## 2. switch 语句\n",
    "\n",
    "switch 常用于多分支选择，判断某个表达式的值。\n",
    "\n",
    "```c\n",
    "switch (表达式) {\n",
    "    case 常量1:\n",
    "        // 语句\n",
    "        break;\n",
    "    case 常量2:\n",
    "        // 语句\n",
    "        break;\n",
    "    ...\n",
    "    default:\n",
    "        // 当所有 case 都不匹配时执行\n",
    "}\n",
    "```\n",
    "✅ 示例："
   ]
  },
  {
   "cell_type": "code",
   "execution_count": 2,
   "id": "652c1aa1-cd20-4a0b-abc9-293c1b03bce8",
   "metadata": {},
   "outputs": [
    {
     "name": "stdout",
     "output_type": "stream",
     "text": [
      "星期三\n"
     ]
    }
   ],
   "source": [
    "{\n",
    "    int day = 3;\n",
    "    switch (day) {\n",
    "        case 1: printf(\"星期一\\n\"); break;\n",
    "        case 2: printf(\"星期二\\n\"); break;\n",
    "        case 3: printf(\"星期三\\n\"); break;\n",
    "        default: printf(\"未知\\n\");\n",
    "    }\n",
    "}"
   ]
  },
  {
   "cell_type": "markdown",
   "id": "b88b0aaf-25d0-464f-9b84-d5998b12d039",
   "metadata": {},
   "source": [
    "## 3. 循环语句\n",
    "\n",
    "### while 循环\n",
    "```c\n",
    "while (条件) {\n",
    "    // 当条件为真时循环执行\n",
    "}\n",
    "```\n",
    "✅ 示例："
   ]
  },
  {
   "cell_type": "code",
   "execution_count": 3,
   "id": "2c788dd2-2dd8-4fe8-94c3-cecce082df90",
   "metadata": {},
   "outputs": [
    {
     "name": "stdout",
     "output_type": "stream",
     "text": [
      "1\n",
      "2\n",
      "3\n",
      "4\n",
      "5\n"
     ]
    }
   ],
   "source": [
    "{\n",
    "    int i = 1;\n",
    "    while (i <= 5) {\n",
    "        printf(\"%d\\n\", i);\n",
    "        i++;\n",
    "    }\n",
    "}"
   ]
  },
  {
   "cell_type": "markdown",
   "id": "91011c25-ac0d-4b8f-a996-4ef30a02bc2f",
   "metadata": {},
   "source": [
    "### do…while 循环\n",
    "\n",
    "do while 至少执行一次。\n",
    "```c\n",
    "do {\n",
    "    // 循环体\n",
    "} while (条件);\n",
    "```\n",
    "\n",
    "✅ 示例："
   ]
  },
  {
   "cell_type": "code",
   "execution_count": 4,
   "id": "847d0097-231c-4ce2-b06d-14cac3d90780",
   "metadata": {},
   "outputs": [
    {
     "name": "stdout",
     "output_type": "stream",
     "text": [
      "1\n",
      "2\n",
      "3\n",
      "4\n",
      "5\n"
     ]
    }
   ],
   "source": [
    "{\n",
    "    int i = 1;\n",
    "    do {\n",
    "        printf(\"%d\\n\", i);\n",
    "        i++;\n",
    "    } while (i <= 5);\n",
    "}"
   ]
  },
  {
   "cell_type": "markdown",
   "id": "9e995002-6705-46f3-a13a-4be149fb03b8",
   "metadata": {},
   "source": [
    "### for 循环\n",
    "```c\n",
    "for (初始化; 条件; 更新) {\n",
    "    // 循环体\n",
    "}\n",
    "```\n",
    "✅ 示例："
   ]
  },
  {
   "cell_type": "code",
   "execution_count": 5,
   "id": "2c6b92f4-9784-4be0-8a7d-3c5882be0edb",
   "metadata": {},
   "outputs": [
    {
     "name": "stdout",
     "output_type": "stream",
     "text": [
      "1\n",
      "2\n",
      "3\n",
      "4\n",
      "5\n"
     ]
    }
   ],
   "source": [
    "for (int i = 1; i <= 5; i++) {\n",
    "    printf(\"%d\\n\", i);\n",
    "}"
   ]
  },
  {
   "cell_type": "markdown",
   "id": "64b21f90-f2d2-4cfb-aa74-87ac8fb6cab4",
   "metadata": {},
   "source": [
    "## 4. 跳转语句\n",
    "\n",
    "### break\n",
    "\t•\t用于跳出 switch 或循环。\n",
    "\n",
    "### continue\n",
    "\t•\t用于跳过当前循环，进入下一次循环。\n",
    "\n",
    "✅ 示例："
   ]
  },
  {
   "cell_type": "code",
   "execution_count": 6,
   "id": "54f98c61-2a8c-4ea6-97a5-1a1a6002fec2",
   "metadata": {},
   "outputs": [
    {
     "name": "stdout",
     "output_type": "stream",
     "text": [
      "1\n",
      "2\n",
      "4\n"
     ]
    }
   ],
   "source": [
    "for (int i = 1; i <= 5; i++) {\n",
    "    if (i == 3) continue; // 跳过 3\n",
    "    if (i == 5) break;    // 遇到 5 退出循环\n",
    "    printf(\"%d\\n\", i);\n",
    "}"
   ]
  },
  {
   "cell_type": "markdown",
   "id": "bb27173c-28e8-47b0-a91f-e10fedf33817",
   "metadata": {},
   "source": [
    "### goto\n",
    "\t•\tgoto 用于无条件跳转到程序中指定的标签处。\n",
    "\t•\t在现代 C 编程中一般 不推荐大量使用，因为它会破坏代码结构、降低可读性，但在某些特殊场景下（如跳出多重循环、错误处理）仍有用。\n",
    "\n",
    "基本语法\n",
    "```c\n",
    "goto label;   // 跳转到 label\n",
    "...\n",
    "label:        // 标签定义\n",
    "    // 语句\n",
    "```\n",
    "示例：跳出多层循环"
   ]
  },
  {
   "cell_type": "code",
   "execution_count": 8,
   "id": "e6c0cf25-b0c3-4a37-9f58-4211002de372",
   "metadata": {},
   "outputs": [
    {
     "name": "stdout",
     "output_type": "stream",
     "text": [
      "i=0, j=0\n",
      "i=0, j=1\n",
      "i=0, j=2\n",
      "i=1, j=0\n",
      "跳出循环\n"
     ]
    }
   ],
   "source": [
    "{\n",
    "    for (int i = 0; i < 3; i++) {\n",
    "        for (int j = 0; j < 3; j++) {\n",
    "            if (i == 1 && j == 1) {\n",
    "                goto end; // 直接跳出所有循环\n",
    "            }\n",
    "            printf(\"i=%d, j=%d\\n\", i, j);\n",
    "        }\n",
    "    }\n",
    "    end:\n",
    "    printf(\"跳出循环\\n\");\n",
    "}"
   ]
  }
 ],
 "metadata": {
  "kernelspec": {
   "display_name": "C++17",
   "language": "cpp",
   "name": "xcpp17"
  },
  "language_info": {
   "codemirror_mode": "text/x-c++src",
   "file_extension": ".cpp",
   "mimetype": "text/x-c++src",
   "name": "C++",
   "version": "17"
  }
 },
 "nbformat": 4,
 "nbformat_minor": 5
}
