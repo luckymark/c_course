{
 "cells": [
  {
   "cell_type": "markdown",
   "id": "dd10cb9c",
   "metadata": {
    "editable": true,
    "slideshow": {
     "slide_type": ""
    },
    "tags": []
   },
   "source": [
    "# C语言程序设计概述\n",
    "\n",
    "## 1. C语言的简介\n",
    "\n",
    "- **起源**：C 语言由 Dennis Ritchie 于 1972 年在贝尔实验室开发，用于编写 UNIX 操作系统。\n",
    "- **地位**：C 语言是现代许多语言（如 C++、Java、Python、Go 等）的基础，被称为“系统级语言之母”。\n",
    "- **应用**：操作系统、嵌入式系统、编译器、驱动程序、游戏开发等。\n",
    "\n",
    "---\n",
    "\n",
    "## 2. C语言的发展历史\n",
    "\n",
    "C 语言的诞生经历了一个逐步演化的过程：\n",
    "\n",
    "1. **BCPL (Basic Combined Programming Language)**  \n",
    "   - 1966 年，由 Martin Richards 设计。  \n",
    "   - 用于编写编译器，语法简洁。  \n",
    "   - 但不区分数据类型，灵活性有限。\n",
    "\n",
    "2. **B 语言**  \n",
    "   - 1969 年，由 **Ken Thompson（K）** 在 BCPL 基础上开发。  \n",
    "   - 主要用于编写 UNIX 操作系统的早期版本。  \n",
    "   - 仍然是“无类型语言”，数据表示不够高效。\n",
    "\n",
    "3. **C 语言**  \n",
    "   - 1972 年，由 **Dennis Ritchie（R）** 在 B 的基础上设计。  \n",
    "   - 引入了 **类型系统**，提升了效率与安全性。  \n",
    "   - 很快取代 B，成为编写 UNIX 的主要语言。  \n",
    "\n",
    "👉 因此，C 语言常说是由 **Ritchie（R）发明**，但 **Ken Thompson（K）** 在它的前身 B 语言中起到了关键作用。  \n",
    "可以说 **K 奠基，R 创新**，两人共同推动了 UNIX 和 C 的发展。\n",
    "\n",
    "---\n",
    "\n",
    "## 3. C语言的主要特点\n",
    "\n",
    "1. **高效**：生成的程序运行速度快，占用资源少。\n",
    "2. **可移植性强**：C 程序在不同平台只需少量修改即可运行。\n",
    "3. **结构化编程**：支持函数化、模块化设计，程序清晰易维护。\n",
    "4. **灵活性强**：允许直接访问内存、操作硬件。\n",
    "5. **丰富的运算符**：提供多种算术、逻辑、位运算符。\n",
    "6. **广泛应用**：操作系统（如 Linux 内核）与许多系统软件都是用 C 编写。\n",
    "\n",
    "---\n",
    "\n",
    "## 4. C程序的基本结构\n",
    "\n",
    "一个典型的 C 程序通常包括以下部分：\n",
    "\n",
    "- **预处理指令**：以 `#` 开头，如 `#include <stdio.h>`\n",
    "- **全局声明**：如全局变量、宏定义\n",
    "- **主函数**：`main()` 是程序的入口\n",
    "- **其他函数**：为完成特定任务而写的函数\n",
    "\n",
    "程序结构示意：\n",
    "\n",
    "```c\n",
    "#include <stdio.h>   // 预处理指令\n",
    "\n",
    "// 函数声明\n",
    "int add(int a, int b);\n",
    "\n",
    "int main() {         // 主函数\n",
    "    int x = 3, y = 4;\n",
    "    int sum = add(x, y);\n",
    "    printf(\"Sum = %d\\n\", sum);\n",
    "    return 0;\n",
    "}\n",
    "\n",
    "// 函数定义\n",
    "int add(int a, int b) {\n",
    "    return a + b;\n",
    "}\n",
    "```"
   ]
  },
  {
   "cell_type": "markdown",
   "id": "7d39308c",
   "metadata": {},
   "source": [
    "## 5. C程序的编译与运行\n",
    "\n",
    "C 程序需要经过 编辑 → 编译 → 链接 → 运行 四个步骤：\n",
    "\n",
    "\t1.\t编辑：编写 .c 源文件。\n",
    "\t2.\t编译：编译器将 .c 文件翻译为 .o 或 .obj 目标文件。\n",
    "\t3.\t链接：链接库文件，生成可执行文件。\n",
    "\t4.\t运行：执行程序，得到结果。\n",
    "\n",
    "在 Linux 上：\n",
    "```bash\n",
    "gcc hello.c -o hello   # 编译\n",
    "./hello                # 运行\n",
    "```\n",
    "在 Windows 上（MinGW 或 Visual Studio）：\n",
    "```bash\n",
    "gcc hello.c -o hello.exe  # 编译\n",
    "hello.exe                 # 运行\n",
    "```"
   ]
  },
  {
   "cell_type": "markdown",
   "id": "8441805d-f9f9-4392-b120-3a67a9671c7b",
   "metadata": {},
   "source": [
    "## 6. 第一个C程序：Hello World！"
   ]
  },
  {
   "cell_type": "code",
   "execution_count": 1,
   "id": "1cdb23aa",
   "metadata": {},
   "outputs": [],
   "source": [
    "// 示例 C 代码片段\n",
    "#include <stdio.h>                  //引入标准输入输出库。\n",
    "int main() {                        //程序主函数，入口点。\n",
    "    printf(\"Hello, World!\\n\");      //输出一行字符串。\n",
    "    return 0;                       //程序正常结束\n",
    "}"
   ]
  },
  {
   "cell_type": "markdown",
   "id": "e80b08f8-bc4f-49ae-a0f2-e20503764162",
   "metadata": {},
   "source": [
    "程序解释\n",
    "\n",
    "\t•\t#include <stdio.h>：引入标准输入输出库。\n",
    "\t•\tint main()：程序主函数，入口点。\n",
    "\t•\tprintf(\"Hello, World!\\n\");：输出一行字符串。\n",
    "\t•\treturn 0;：程序正常结束。\n"
   ]
  },
  {
   "cell_type": "code",
   "execution_count": 2,
   "id": "57fd7d55-2fc3-406e-a2fc-95701edab452",
   "metadata": {},
   "outputs": [
    {
     "name": "stdout",
     "output_type": "stream",
     "text": [
      "Hello, World!\n"
     ]
    }
   ],
   "source": [
    "main();    //调用main函数，在实际系统中，通常由操作系统调用"
   ]
  },
  {
   "cell_type": "markdown",
   "id": "ce84cd3e-194f-47a3-abd9-7271c821d5e3",
   "metadata": {},
   "source": [
    "7. 学习C语言的步骤\n",
    "\t1.\t学习 基础语法（数据类型、运算符、控制语句）。\n",
    "\t2.\t掌握 函数与数组。\n",
    "\t3.\t学习 指针与结构体。\n",
    "\t4.\t理解 文件操作 与 内存管理。\n",
    "\t5.\t通过项目实践（如学生管理系统、小型计算器）提升综合能力。\n"
   ]
  },
  {
   "cell_type": "markdown",
   "id": "9144db35-4469-4c2c-936d-96424b384874",
   "metadata": {
    "editable": true,
    "slideshow": {
     "slide_type": ""
    },
    "tags": []
   },
   "source": [
    "## 小结\n",
    "\t•\tC 语言历史悠久，应用广泛，是学习计算机科学的基础。\n",
    "\t•\t一个 C 程序由 预处理指令、函数、语句 组成，main 是入口。\n",
    "\t•\t程序需经过 编译和链接 才能运行。\n",
    "\t•\t“Hello, World!” 是学习 C 语言的第一步。"
   ]
  }
 ],
 "metadata": {
  "kernelspec": {
   "display_name": "C++17",
   "language": "cpp",
   "name": "xcpp17"
  },
  "language_info": {
   "codemirror_mode": "text/x-c++src",
   "file_extension": ".cpp",
   "mimetype": "text/x-c++src",
   "name": "C++",
   "version": "17"
  }
 },
 "nbformat": 4,
 "nbformat_minor": 5
}
