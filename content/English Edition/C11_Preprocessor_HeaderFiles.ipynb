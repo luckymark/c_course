{
 "cells": [
  {
   "cell_type": "markdown",
   "id": "c471238c",
   "metadata": {},
   "source": [
    "# Preprocessor & Header Files\n",
    "\n",
    "_This notebook covers: Preprocessor & Header Files_"
   ]
  },
  {
   "cell_type": "markdown",
   "id": "5290550b",
   "metadata": {},
   "source": [
    "## ✏️ Explanation\n",
    "\n",
    "(Write theory here...)"
   ]
  },
  {
   "cell_type": "code",
   "execution_count": null,
   "id": "0723a422",
   "metadata": {},
   "outputs": [],
   "source": [
    "// Example C code snippet\n",
    "#include <stdio.h>\n",
    "int main() {\n",
    "    printf(\"Hello from C!\\n\");\n",
    "    return 0;\n",
    "}"
   ]
  },
  {
   "cell_type": "markdown",
   "id": "18f0a2b9",
   "metadata": {},
   "source": [
    "## 🎯 Exercises\n",
    "\n",
    "1. Write a simple program ...\n",
    "2. Modify the example ..."
   ]
  }
 ],
 "metadata": {
  "kernelspec": {
   "display_name": "C++17",
   "language": "cpp",
   "name": "xcpp17"
  },
  "language_info": {
   "codemirror_mode": "text/x-c++src",
   "file_extension": ".cpp",
   "mimetype": "text/x-c++src",
   "name": "C++",
   "version": "17"
  }
 },
 "nbformat": 4,
 "nbformat_minor": 5
}
