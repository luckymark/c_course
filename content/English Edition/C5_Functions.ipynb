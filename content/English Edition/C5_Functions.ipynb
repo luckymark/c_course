{
 "cells": [
  {
   "cell_type": "markdown",
   "id": "62629058",
   "metadata": {},
   "source": [
    "# Functions\n",
    "\n",
    "_This notebook covers: Functions_"
   ]
  },
  {
   "cell_type": "markdown",
   "id": "4e12d63f",
   "metadata": {},
   "source": [
    "## ✏️ Explanation\n",
    "\n",
    "(Write theory here...)"
   ]
  },
  {
   "cell_type": "code",
   "execution_count": null,
   "id": "b7bc1d8a",
   "metadata": {},
   "outputs": [],
   "source": [
    "// Example C code snippet\n",
    "#include <stdio.h>\n",
    "int main() {\n",
    "    printf(\"Hello from C!\\n\");\n",
    "    return 0;\n",
    "}"
   ]
  },
  {
   "cell_type": "markdown",
   "id": "148e4838",
   "metadata": {},
   "source": [
    "## 🎯 Exercises\n",
    "\n",
    "1. Write a simple program ...\n",
    "2. Modify the example ..."
   ]
  }
 ],
 "metadata": {
  "kernelspec": {
   "display_name": "C++17",
   "language": "cpp",
   "name": "xcpp17"
  },
  "language_info": {
   "codemirror_mode": "text/x-c++src",
   "file_extension": ".cpp",
   "mimetype": "text/x-c++src",
   "name": "C++",
   "version": "17"
  }
 },
 "nbformat": 4,
 "nbformat_minor": 5
}
