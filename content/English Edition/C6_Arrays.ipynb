{
 "cells": [
  {
   "cell_type": "markdown",
   "id": "25058948",
   "metadata": {},
   "source": [
    "# Arrays\n",
    "\n",
    "_This notebook covers: Arrays_"
   ]
  },
  {
   "cell_type": "markdown",
   "id": "798ca4de",
   "metadata": {},
   "source": [
    "## ✏️ Explanation\n",
    "\n",
    "(Write theory here...)"
   ]
  },
  {
   "cell_type": "code",
   "execution_count": null,
   "id": "bf4156b3",
   "metadata": {},
   "outputs": [],
   "source": [
    "// Example C code snippet\n",
    "#include <stdio.h>\n",
    "int main() {\n",
    "    printf(\"Hello from C!\\n\");\n",
    "    return 0;\n",
    "}"
   ]
  },
  {
   "cell_type": "markdown",
   "id": "7bf9665a",
   "metadata": {},
   "source": [
    "## 🎯 Exercises\n",
    "\n",
    "1. Write a simple program ...\n",
    "2. Modify the example ..."
   ]
  }
 ],
 "metadata": {
  "kernelspec": {
   "display_name": "C++17",
   "language": "cpp",
   "name": "xcpp17"
  },
  "language_info": {
   "codemirror_mode": "text/x-c++src",
   "file_extension": ".cpp",
   "mimetype": "text/x-c++src",
   "name": "C++",
   "version": "17"
  }
 },
 "nbformat": 4,
 "nbformat_minor": 5
}
