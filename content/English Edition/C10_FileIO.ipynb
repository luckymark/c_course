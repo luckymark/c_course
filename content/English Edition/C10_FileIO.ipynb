{
 "cells": [
  {
   "cell_type": "markdown",
   "id": "89e93337",
   "metadata": {},
   "source": [
    "# File I/O\n",
    "\n",
    "_This notebook covers: File I/O_"
   ]
  },
  {
   "cell_type": "markdown",
   "id": "c9df31c3",
   "metadata": {},
   "source": [
    "## ✏️ Explanation\n",
    "\n",
    "(Write theory here...)"
   ]
  },
  {
   "cell_type": "code",
   "execution_count": null,
   "id": "55bfe2ce",
   "metadata": {},
   "outputs": [],
   "source": [
    "// Example C code snippet\n",
    "#include <stdio.h>\n",
    "int main() {\n",
    "    printf(\"Hello from C!\\n\");\n",
    "    return 0;\n",
    "}"
   ]
  },
  {
   "cell_type": "markdown",
   "id": "83c073ee",
   "metadata": {},
   "source": [
    "## 🎯 Exercises\n",
    "\n",
    "1. Write a simple program ...\n",
    "2. Modify the example ..."
   ]
  }
 ],
 "metadata": {
  "kernelspec": {
   "display_name": "C++17",
   "language": "cpp",
   "name": "xcpp17"
  },
  "language_info": {
   "codemirror_mode": "text/x-c++src",
   "file_extension": ".cpp",
   "mimetype": "text/x-c++src",
   "name": "C++",
   "version": "17"
  }
 },
 "nbformat": 4,
 "nbformat_minor": 5
}
