{
 "cells": [
  {
   "cell_type": "markdown",
   "id": "ee623998",
   "metadata": {},
   "source": [
    "# 循环语句与重复执行\n",
    "\n",
    "_本笔记本涵盖: 循环语句与重复执行_"
   ]
  },
  {
   "cell_type": "markdown",
   "id": "b73a879b",
   "metadata": {},
   "source": [
    "## ✏️ 知识点讲解\n",
    "\n",
    "(在这里写理论部分...)"
   ]
  },
  {
   "cell_type": "code",
   "execution_count": null,
   "id": "0ecfee31",
   "metadata": {},
   "outputs": [],
   "source": [
    "// 示例 C 代码\n",
    "#include <stdio.h>\n",
    "int main() {\n",
    "    // 在这里完成任务\n",
    "    return 0;\n",
    "}"
   ]
  },
  {
   "cell_type": "markdown",
   "id": "e5485226",
   "metadata": {},
   "source": [
    "## 🎯 练习\n",
    "\n",
    "1. 尝试编写一个程序 ...\n",
    "2. 修改代码 ..."
   ]
  }
 ],
 "metadata": {},
 "nbformat": 4,
 "nbformat_minor": 5
}
