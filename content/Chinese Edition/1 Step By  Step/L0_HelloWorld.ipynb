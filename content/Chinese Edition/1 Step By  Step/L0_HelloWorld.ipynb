{
 "cells": [
  {
   "cell_type": "markdown",
   "id": "3c6ca81f-8b87-49a1-826a-ca53ca203abe",
   "metadata": {},
   "source": [
    "本笔记本将带你学习 C 语言的入门程序"
   ]
  },
  {
   "cell_type": "markdown",
   "id": "22d83b20-7439-425d-9c14-1ef06865e77b",
   "metadata": {},
   "source": [
    "这是你的第一个 C 程序，用来在屏幕上输出一句话。"
   ]
  },
  {
   "cell_type": "code",
   "execution_count": 1,
   "id": "0263c0be-86c7-4905-9d01-ad354fa7f214",
   "metadata": {},
   "outputs": [
    {
     "name": "stdout",
     "output_type": "stream",
     "text": [
      "Hello, World!\n"
     ]
    }
   ],
   "source": [
    "#include <stdio.h>\n",
    "int main() {\n",
    "    printf(\"Hello, World!\\n\");\n",
    "    return 0;\n",
    "}\n",
    "main();"
   ]
  },
  {
   "cell_type": "code",
   "execution_count": 2,
   "id": "5e83a663-fd1f-44be-947b-8d5e229e3100",
   "metadata": {},
   "outputs": [
    {
     "name": "stdout",
     "output_type": "stream",
     "text": [
      "Hello Mark!\n"
     ]
    }
   ],
   "source": [
    "printf(\"Hello Mark!\\n\");"
   ]
  },
  {
   "cell_type": "markdown",
   "id": "8a30a467-ad7b-40aa-be2d-32d698887f96",
   "metadata": {},
   "source": [
    "1. printf\n",
    "\t•\t这是 C 语言的一个函数，来自标准库 <stdio.h>。\n",
    "\t•\t功能：在屏幕上打印输出内容。\n",
    "\t•\t名字来源：print formatted（打印格式化的内容）。\n",
    "2. 括号里的 \"Hello Mark!\\n\"\n",
    "\t•\t引号 \" \" 里的部分叫做 字符串。\n",
    "\t•\t这里的 \"Hello Mark!\\n\" 表示要输出的文字。\n",
    "\t•\tHello Mark! 会原样显示在屏幕上。\n",
    "\t•\t\\n 是一个 转义字符，表示“换行”。\n",
    "\t•\t没有 \\n → 输出后光标还停在同一行。\n",
    "\t•\t有 \\n → 输出后光标跳到下一行。\n",
    "3. 分号 ;\n",
    "\t•\t在 C 语言里，分号表示一句话的结束。\n",
    "\t•\t如果没有分号，编译器会报错。"
   ]
  },
  {
   "cell_type": "code",
   "execution_count": 3,
   "id": "26d82017-3c08-4523-928e-cdd9fa168ffb",
   "metadata": {},
   "outputs": [
    {
     "name": "stderr",
     "output_type": "stream",
     "text": [
      "In file included from <<< inputs >>>:1:\n",
      "input_line_4:1:1: error: use of undeclared identifier '练习：尝试修改上面的程序，输出你自己的名字。'\n",
      "    1 | 练习：尝试修改上面的程序，输出你自己的名字。\n",
      "      | ^\n",
      "Failed to parse via ::process:Parsing failed.\n"
     ]
    },
    {
     "ename": "Error: ",
     "evalue": "Compilation error! In file included from <<< inputs >>>:1:\ninput_line_4:1:1: error: use of undeclared identifier '练习：尝试修改上面的程序，输出你自己的名字。'\n    1 | 练习：尝试修改上面的程序，输出你自己的名字。\n      | ^\nFailed to parse via ::process:Parsing failed.\n",
     "output_type": "error",
     "traceback": [
      "Error: Compilation error! In file included from <<< inputs >>>:1:\ninput_line_4:1:1: error: use of undeclared identifier '练习：尝试修改上面的程序，输出你自己的名字。'\n    1 | 练习：尝试修改上面的程序，输出你自己的名字。\n      | ^\nFailed to parse via ::process:Parsing failed.\n"
     ]
    }
   ],
   "source": [
    "练习：尝试修改上面的程序，输出你自己的名字。"
   ]
  }
 ],
 "metadata": {
  "kernelspec": {
   "display_name": "C++17",
   "language": "cpp",
   "name": "xcpp17"
  },
  "language_info": {
   "codemirror_mode": "text/x-c++src",
   "file_extension": ".cpp",
   "mimetype": "text/x-c++src",
   "name": "C++",
   "version": "17"
  }
 },
 "nbformat": 4,
 "nbformat_minor": 5
}
