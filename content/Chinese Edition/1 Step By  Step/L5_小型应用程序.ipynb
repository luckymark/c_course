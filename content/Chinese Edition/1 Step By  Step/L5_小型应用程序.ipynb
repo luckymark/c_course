{
 "cells": [
  {
   "cell_type": "markdown",
   "id": "92993196",
   "metadata": {},
   "source": [
    "# 一个简单但完整的小程序\n",
    "\n",
    "_本笔记本涵盖: 一个简单但完整的小程序_"
   ]
  },
  {
   "cell_type": "markdown",
   "id": "5ca6e8a6",
   "metadata": {},
   "source": [
    "## ✏️ 知识点讲解\n",
    "\n",
    "(在这里写理论部分...)"
   ]
  },
  {
   "cell_type": "code",
   "execution_count": null,
   "id": "2e8c6299",
   "metadata": {},
   "outputs": [],
   "source": [
    "// 示例 C 代码\n",
    "#include <stdio.h>\n",
    "int main() {\n",
    "    // 在这里完成任务\n",
    "    return 0;\n",
    "}"
   ]
  },
  {
   "cell_type": "markdown",
   "id": "0a8a1d23",
   "metadata": {},
   "source": [
    "## 🎯 练习\n",
    "\n",
    "1. 尝试编写一个程序 ...\n",
    "2. 修改代码 ..."
   ]
  }
 ],
 "metadata": {},
 "nbformat": 4,
 "nbformat_minor": 5
}
