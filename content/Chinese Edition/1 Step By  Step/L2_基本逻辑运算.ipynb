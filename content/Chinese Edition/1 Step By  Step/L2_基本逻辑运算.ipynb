{
 "cells": [
  {
   "cell_type": "markdown",
   "id": "76de2d40",
   "metadata": {},
   "source": [
    "# 基本逻辑运算\n",
    "\n",
    "_本笔记本涵盖: 基本逻辑运算_"
   ]
  },
  {
   "cell_type": "markdown",
   "id": "126453c2",
   "metadata": {},
   "source": [
    "## ✏️ 知识点讲解\n",
    "\n",
    "(在这里写理论部分...)"
   ]
  },
  {
   "cell_type": "code",
   "execution_count": null,
   "id": "8a0d709b",
   "metadata": {},
   "outputs": [],
   "source": [
    "// 示例 C 代码\n",
    "#include <stdio.h>\n",
    "int main() {\n",
    "    // 在这里完成任务\n",
    "    return 0;\n",
    "}"
   ]
  },
  {
   "cell_type": "markdown",
   "id": "aaf2b215",
   "metadata": {},
   "source": [
    "## 🎯 练习\n",
    "\n",
    "1. 尝试编写一个程序 ...\n",
    "2. 修改代码 ..."
   ]
  }
 ],
 "metadata": {
  "kernelspec": {
   "display_name": "C++17",
   "language": "cpp",
   "name": "xcpp17"
  },
  "language_info": {
   "codemirror_mode": "text/x-c++src",
   "file_extension": ".cpp",
   "mimetype": "text/x-c++src",
   "name": "C++",
   "version": "17"
  }
 },
 "nbformat": 4,
 "nbformat_minor": 5
}
