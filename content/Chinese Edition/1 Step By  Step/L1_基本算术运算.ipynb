{
 "cells": [
  {
   "cell_type": "markdown",
   "id": "e188746c",
   "metadata": {},
   "source": [
    "# 基本算术运算"
   ]
  },
  {
   "cell_type": "code",
   "execution_count": 1,
   "id": "3d5cd978-5336-4910-9997-5bbff4d9e4b8",
   "metadata": {},
   "outputs": [],
   "source": [
    "#include <stdio.h>"
   ]
  },
  {
   "cell_type": "code",
   "execution_count": 2,
   "id": "90262a45",
   "metadata": {},
   "outputs": [
    {
     "name": "stdout",
     "output_type": "stream",
     "text": [
      "3 \n"
     ]
    }
   ],
   "source": [
    "int x=1+2;\n",
    "printf(\"%d \\n\",x);"
   ]
  },
  {
   "cell_type": "code",
   "execution_count": 3,
   "id": "968c8e41-503a-4b34-9702-668bfa059836",
   "metadata": {},
   "outputs": [
    {
     "name": "stdout",
     "output_type": "stream",
     "text": [
      "3 \n"
     ]
    }
   ],
   "source": [
    "int a,b,c;\n",
    "a=1;\n",
    "b=2;\n",
    "c=a+b; \n",
    "printf(\"%d \\n\",c);"
   ]
  },
  {
   "cell_type": "markdown",
   "id": "ef762a06",
   "metadata": {},
   "source": [
    "## 🎯 练习：\n",
    "\n",
    "请修改上面的程序，实现一个你自己的算术运算表达式。\n",
    "\n",
    "C 语言支持以下 算术运算符：\n",
    "\n",
    "\t•\t+ ：加法\n",
    "    \n",
    "\t•\t- ：减法\n",
    "    \n",
    "\t•\t* ：乘法\n",
    "    \n",
    "\t•\t/ ：除法\n",
    "    \n",
    "\t•\t% ：取余数（又称为模运算）"
   ]
  },
  {
   "cell_type": "code",
   "execution_count": null,
   "id": "9ef1d0fa-454d-461c-9be1-eb2a669f318b",
   "metadata": {},
   "outputs": [],
   "source": []
  }
 ],
 "metadata": {
  "kernelspec": {
   "display_name": "C++17",
   "language": "cpp",
   "name": "xcpp17"
  },
  "language_info": {
   "codemirror_mode": "text/x-c++src",
   "file_extension": ".cpp",
   "mimetype": "text/x-c++src",
   "name": "C++",
   "version": "17"
  }
 },
 "nbformat": 4,
 "nbformat_minor": 5
}
