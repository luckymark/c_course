{
 "cells": [
  {
   "cell_type": "markdown",
   "id": "21759f5a",
   "metadata": {},
   "source": [
    "# 数组\n",
    "\n",
    "_本笔记本涵盖: 数组_"
   ]
  },
  {
   "cell_type": "markdown",
   "id": "d35ea395",
   "metadata": {},
   "source": [
    "## ✏️ 知识点讲解\n",
    "\n",
    "(在这里写理论部分...)"
   ]
  },
  {
   "cell_type": "code",
   "execution_count": null,
   "id": "9c55c437",
   "metadata": {},
   "outputs": [],
   "source": [
    "// 示例 C 代码片段\n",
    "#include <stdio.h>\n",
    "int main() {\n",
    "    printf(\"你好，C语言！\\n\");\n",
    "    return 0;\n",
    "}"
   ]
  },
  {
   "cell_type": "markdown",
   "id": "7298d655",
   "metadata": {},
   "source": [
    "## 🎯 练习\n",
    "\n",
    "1. 编写一个简单的程序 ...\n",
    "2. 修改示例代码 ..."
   ]
  }
 ],
 "metadata": {
  "kernelspec": {
   "display_name": "C++17",
   "language": "cpp",
   "name": "xcpp17"
  },
  "language_info": {
   "codemirror_mode": "text/x-c++src",
   "file_extension": ".cpp",
   "mimetype": "text/x-c++src",
   "name": "C++",
   "version": "17"
  }
 },
 "nbformat": 4,
 "nbformat_minor": 5
}
