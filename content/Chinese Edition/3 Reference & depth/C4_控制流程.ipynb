{
 "cells": [
  {
   "cell_type": "markdown",
   "id": "f01e37f6",
   "metadata": {},
   "source": [
    "# 控制流程\n",
    "\n",
    "_本笔记本涵盖: 控制流程_"
   ]
  },
  {
   "cell_type": "markdown",
   "id": "581af999",
   "metadata": {},
   "source": [
    "## ✏️ 知识点讲解\n",
    "\n",
    "(在这里写理论部分...)"
   ]
  },
  {
   "cell_type": "code",
   "execution_count": null,
   "id": "45f3ee54",
   "metadata": {},
   "outputs": [],
   "source": [
    "// 示例 C 代码片段\n",
    "#include <stdio.h>\n",
    "int main() {\n",
    "    printf(\"你好，C语言！\\n\");\n",
    "    return 0;\n",
    "}"
   ]
  },
  {
   "cell_type": "markdown",
   "id": "7d56ce7a",
   "metadata": {},
   "source": [
    "## 🎯 练习\n",
    "\n",
    "1. 编写一个简单的程序 ...\n",
    "2. 修改示例代码 ..."
   ]
  }
 ],
 "metadata": {
  "kernelspec": {
   "display_name": "C++17",
   "language": "cpp",
   "name": "xcpp17"
  },
  "language_info": {
   "codemirror_mode": "text/x-c++src",
   "file_extension": ".cpp",
   "mimetype": "text/x-c++src",
   "name": "C++",
   "version": "17"
  }
 },
 "nbformat": 4,
 "nbformat_minor": 5
}
