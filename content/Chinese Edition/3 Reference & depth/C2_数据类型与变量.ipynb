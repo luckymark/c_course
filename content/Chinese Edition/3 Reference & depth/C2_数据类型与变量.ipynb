{
 "cells": [
  {
   "cell_type": "markdown",
   "id": "2891add6",
   "metadata": {},
   "source": [
    "# 数据类型与变量\n",
    "\n",
    "在 C 语言中，**变量** 就像一个容器，用来存储数据。不同的数据需要不同的容器，这就是 **数据类型** 的作用。\n",
    "\n",
    "本节将学习：\n",
    "- 常见数据类型\n",
    "- 如何声明和使用变量\n",
    "- 输入输出变量\n",
    "- 类型转换"
   ]
  },
  {
   "cell_type": "markdown",
   "id": "88222e42",
   "metadata": {},
   "source": [
    "## 1. 常见数据类型\n",
    "\n",
    "C 语言中常见的数据类型有：\n",
    "\n",
    "- `int`：整数，例如 `10`、`-5`\n",
    "- `float`：单精度浮点数（小数），例如 `3.14`\n",
    "- `double`：双精度浮点数，比 `float` 更精确\n",
    "- `char`：字符，例如 `'a'`、`'Z'`\n",
    "- `_Bool`：布尔类型，只能取 `0`（假） 或 `1`（真）"
   ]
  },
  {
   "cell_type": "markdown",
   "id": "bec55968-1de3-44db-b1fd-317184d43669",
   "metadata": {},
   "source": [
    "## 2. 声明变量\n",
    "\n",
    "语法：\n",
    "```c\n",
    "类型 变量名 = 初始值;\n",
    "```\n",
    "\n",
    "示例：\n",
    "Here's some text and [here's my label](#head)."
   ]
  },
  {
   "cell_type": "code",
   "execution_count": 1,
   "id": "a41ce63d",
   "metadata": {},
   "outputs": [
    {
     "name": "stdout",
     "output_type": "stream",
     "text": [
      "年龄: 18\n",
      "圆周率: 3.140000\n",
      "成绩等级: A\n"
     ]
    }
   ],
   "source": [
    "#include <stdio.h>\n",
    "{\n",
    "    int age = 18;\n",
    "    float pi = 3.14;\n",
    "    char grade = 'A';\n",
    "    \n",
    "    printf(\"年龄: %d\\n\", age);\n",
    "    printf(\"圆周率: %f\\n\", pi);\n",
    "    printf(\"成绩等级: %c\\n\", grade);\n",
    "}"
   ]
  },
  {
   "cell_type": "markdown",
   "id": "cd7ca504",
   "metadata": {
    "editable": true,
    "slideshow": {
     "slide_type": ""
    },
    "tags": []
   },
   "source": [
    "## 3. 变量的输入\n",
    "\n",
    "使用 `scanf` 函数从键盘输入数据。"
   ]
  },
  {
   "cell_type": "code",
   "execution_count": 2,
   "id": "55e581e1-e5b5-4496-884c-d41799feb488",
   "metadata": {},
   "outputs": [
    {
     "name": "stdout",
     "output_type": "stream",
     "text": [
      "请输入一个整数: 你输入的是: 10\n"
     ]
    }
   ],
   "source": [
    "{\n",
    "    int number;\n",
    "    printf(\"请输入一个整数: \");\n",
    "    scanf(\"%d\", &number); // 由于当前的 C++ kernel暂时还不支持scanf语句，该kernel会忽略scanf语句，后面的例子我们都使用直接赋值的方式代替scanf语句；\n",
    "    number = 10;\n",
    "    printf(\"你输入的是: %d\\n\", number);\n",
    "}"
   ]
  },
  {
   "cell_type": "markdown",
   "id": "d4aae2f8-fc15-4a87-9f0b-7fed8eb7840b",
   "metadata": {},
   "source": [
    "📌 注意：\n",
    "- `scanf` 需要在变量名前加上 `&`，表示把数据存入该变量的地址。\n",
    "- `%d` 表示读取整数。\n",
    "- 由于当前的 C++ kernel不支持scanf语句，暂时只能用C++的输入语句代替，示例如下："
   ]
  },
  {
   "cell_type": "code",
   "execution_count": null,
   "id": "c14c7296-8809-40c2-b705-53824097dcd6",
   "metadata": {
    "editable": true,
    "slideshow": {
     "slide_type": ""
    },
    "tags": []
   },
   "outputs": [
    {
     "name": "stdout",
     "output_type": "stream",
     "text": [
      "请输入一个整数: "
     ]
    }
   ],
   "source": [
    "#include <iostream>\n",
    "{\n",
    "    int number;\n",
    "    std::cout<<\"请输入一个整数: \";\n",
    "    std::cin>>number;\n",
    "    printf(\"你输入的是: %d\\n\", number);\n",
    "}"
   ]
  },
  {
   "cell_type": "markdown",
   "id": "48f789e7-3faf-4cc2-b30f-bf3614919b6f",
   "metadata": {},
   "source": [
    "## 4. 多个变量\n",
    "\n",
    "你可以同时声明多个同类型变量。"
   ]
  },
  {
   "cell_type": "code",
   "execution_count": null,
   "id": "be6ec941-71fc-4fcf-a787-0a952320d5be",
   "metadata": {},
   "outputs": [],
   "source": [
    "{\n",
    "    int x = 3, y = 4;\n",
    "    int sum = x + y;\n",
    "    printf(\"x = %d, y = %d, 和 = %d\\n\", x, y, sum);\n",
    "}"
   ]
  },
  {
   "cell_type": "markdown",
   "id": "73f9593f-23ce-46a8-aa17-2d97876ae764",
   "metadata": {},
   "source": [
    "## 5. 类型转换\n",
    "\n",
    "C 语言支持类型之间的转换。\n",
    "\n",
    "### 自动转换（隐式）\n",
    "小范围类型会自动提升到大范围类型，例如：  \n",
    "```c\n",
    "int a = 5;\n",
    "double b = 2.0;\n",
    "double result = a + b; // a 自动转为 double\n",
    "```\n",
    "\n",
    "### 强制转换（显式）\n",
    "使用 `(类型)` 进行强制转换："
   ]
  },
  {
   "cell_type": "code",
   "execution_count": null,
   "id": "875c252b-5e5c-40e4-91a6-d51b8519b378",
   "metadata": {},
   "outputs": [],
   "source": [
    "{\n",
    "    int a = 7, b = 2;\n",
    "    double result = (double)a / b;\n",
    "    printf(\"7 / 2 = %f\\n\", result);\n",
    "}"
   ]
  },
  {
   "cell_type": "markdown",
   "id": "ea725fcb-494e-4b5b-b514-500e51d60101",
   "metadata": {},
   "source": [
    "## 6. 🎯 练习"
   ]
  },
  {
   "cell_type": "code",
   "execution_count": null,
   "id": "90dee29e-0985-4121-8ced-2dfec0713259",
   "metadata": {},
   "outputs": [],
   "source": [
    "//1. 计算正数平方。\n",
    "{\n",
    "    //声明一个整数变量 n，并初始化为10\n",
    "    //输出n的平方\n",
    "}"
   ]
  },
  {
   "cell_type": "code",
   "execution_count": null,
   "id": "71f203bf-3de1-48b8-a43d-1e5cfb38de8d",
   "metadata": {},
   "outputs": [],
   "source": [
    "//2. 计算浮点数平均值\n",
    "{\n",
    "    //声明两个浮点数 x，y\n",
    "    //为x,y赋值\n",
    "    //输出x,y的平均值\n",
    "}"
   ]
  },
  {
   "cell_type": "code",
   "execution_count": null,
   "id": "9b2aa972-15ff-449d-a843-681adcb2251a",
   "metadata": {},
   "outputs": [],
   "source": [
    "//3. 输入一个字符，输出它的 ASCII 码值（提示：%d 可以打印字符对应的整数）。\n"
   ]
  },
  {
   "cell_type": "code",
   "execution_count": null,
   "id": "8ff8257d-22b2-41d1-8dc2-2c4075864107",
   "metadata": {},
   "outputs": [],
   "source": [
    "//4. 尝试用强制类型转换，把两个整数相除，得到小数结果。"
   ]
  },
  {
   "cell_type": "code",
   "execution_count": null,
   "id": "d7bbcfa1-1fe4-4427-96a8-10d24a0d2fe4",
   "metadata": {},
   "outputs": [],
   "source": []
  }
 ],
 "metadata": {
  "kernelspec": {
   "display_name": "C++17",
   "language": "cpp",
   "name": "xcpp17"
  },
  "language_info": {
   "codemirror_mode": "text/x-c++src",
   "file_extension": ".cpp",
   "mimetype": "text/x-c++src",
   "name": "C++",
   "version": "17"
  }
 },
 "nbformat": 4,
 "nbformat_minor": 5
}
