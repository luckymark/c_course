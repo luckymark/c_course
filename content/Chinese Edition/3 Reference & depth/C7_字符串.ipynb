{
 "cells": [
  {
   "cell_type": "markdown",
   "id": "2d84164c",
   "metadata": {},
   "source": [
    "# 字符串\n",
    "\n",
    "_本笔记本涵盖: 字符串_"
   ]
  },
  {
   "cell_type": "markdown",
   "id": "a5b81307",
   "metadata": {},
   "source": [
    "## ✏️ 知识点讲解\n",
    "\n",
    "(在这里写理论部分...)"
   ]
  },
  {
   "cell_type": "code",
   "execution_count": null,
   "id": "de5c2793",
   "metadata": {},
   "outputs": [],
   "source": [
    "// 示例 C 代码片段\n",
    "#include <stdio.h>\n",
    "int main() {\n",
    "    printf(\"你好，C语言！\\n\");\n",
    "    return 0;\n",
    "}"
   ]
  },
  {
   "cell_type": "markdown",
   "id": "4f7e72ab",
   "metadata": {},
   "source": [
    "## 🎯 练习\n",
    "\n",
    "1. 编写一个简单的程序 ...\n",
    "2. 修改示例代码 ..."
   ]
  }
 ],
 "metadata": {
  "kernelspec": {
   "display_name": "C++17",
   "language": "cpp",
   "name": "xcpp17"
  },
  "language_info": {
   "codemirror_mode": "text/x-c++src",
   "file_extension": ".cpp",
   "mimetype": "text/x-c++src",
   "name": "C++",
   "version": "17"
  }
 },
 "nbformat": 4,
 "nbformat_minor": 5
}
