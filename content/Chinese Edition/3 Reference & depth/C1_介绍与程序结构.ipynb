{
 "cells": [
  {
   "cell_type": "markdown",
   "id": "dd10cb9c",
   "metadata": {
    "editable": true,
    "slideshow": {
     "slide_type": ""
    },
    "tags": []
   },
   "source": [
    "# 介绍与程序结构\n",
    "\n",
    "_本笔记本涵盖: 介绍与程序结构_"
   ]
  },
  {
   "cell_type": "markdown",
   "id": "7d39308c",
   "metadata": {},
   "source": [
    "## ✏️ 知识点讲解\n",
    "\n",
    "(在这里写理论部分...)"
   ]
  },
  {
   "cell_type": "code",
   "execution_count": 1,
   "id": "1cdb23aa",
   "metadata": {},
   "outputs": [],
   "source": [
    "// 示例 C 代码片段\n",
    "#include <stdio.h>\n",
    "int main() {\n",
    "    printf(\"你好，C语言！\\n\");\n",
    "    return 0;\n",
    "}"
   ]
  },
  {
   "cell_type": "code",
   "execution_count": 2,
   "id": "57fd7d55-2fc3-406e-a2fc-95701edab452",
   "metadata": {},
   "outputs": [
    {
     "name": "stdout",
     "output_type": "stream",
     "text": [
      "你好，C语言！\n"
     ]
    }
   ],
   "source": [
    "main();"
   ]
  },
  {
   "cell_type": "markdown",
   "id": "c658a588",
   "metadata": {},
   "source": [
    "## 🎯 练习\n",
    "\n",
    "1. 编写一个简单的程序 ...\n",
    "2. 修改示例代码 ..."
   ]
  }
 ],
 "metadata": {
  "kernelspec": {
   "display_name": "C++17",
   "language": "cpp",
   "name": "xcpp17"
  },
  "language_info": {
   "codemirror_mode": "text/x-c++src",
   "file_extension": ".cpp",
   "mimetype": "text/x-c++src",
   "name": "C++",
   "version": "17"
  }
 },
 "nbformat": 4,
 "nbformat_minor": 5
}
