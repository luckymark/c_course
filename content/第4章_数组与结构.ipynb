{
 "cells": [
  {
   "cell_type": "markdown",
   "id": "21759f5a",
   "metadata": {},
   "source": [
    "# 数组与结构\n",
    "\n",
    "在程序设计中，我们经常需要处理一组数据。  \n",
    "C语言提供了 **数组** 与 **结构体** 两种重要的数据组织方式：\n",
    "\n",
    "- **数组**：存放相同类型的数据。  \n",
    "- **结构体**：存放不同类型的数据。  \n",
    "\n",
    "---\n",
    "\n",
    "## 1. 一维数组\n",
    "\n",
    "```c\n",
    "类型 数组名[大小];\n",
    "```"
   ]
  },
  {
   "cell_type": "code",
   "execution_count": 1,
   "id": "9c55c437",
   "metadata": {},
   "outputs": [
    {
     "name": "stdout",
     "output_type": "stream",
     "text": [
      "1\n",
      "5\n"
     ]
    }
   ],
   "source": [
    "#include <stdio.h>\n",
    "{\n",
    "    int a[5];          // 定义一个含有 5 个 int 元素的数组\n",
    "    int b[5] = {1,2,3,4,5}; // 定义并初始化\n",
    "    //访问数组元素\n",
    "    printf(\"%d\\n\", b[0]);  // 输出第1个元素\n",
    "    printf(\"%d\\n\", b[4]);  // 输出第5个元素\n",
    "}"
   ]
  },
  {
   "cell_type": "markdown",
   "id": "7298d655",
   "metadata": {},
   "source": [
    "## 2. 二维数组\n",
    "\n",
    "```c\n",
    "类型 数组名[行][列];\n",
    "```"
   ]
  },
  {
   "cell_type": "code",
   "execution_count": 2,
   "id": "bc554b7d-05c1-43cb-aabe-f4d5acfe301a",
   "metadata": {},
   "outputs": [],
   "source": [
    "{\n",
    "    int matrix[2][3] = {\n",
    "        {1, 2, 3},\n",
    "        {4, 5, 6}\n",
    "    };\n",
    "}"
   ]
  },
  {
   "cell_type": "markdown",
   "id": "97d6cd91-1501-4218-840f-49211dc21aeb",
   "metadata": {},
   "source": [
    "## 3. 字符数组（字符串）\n",
    "\n",
    "在 C 中没有单独的字符串类型，字符串由 字符数组 表示，并以 \\0 结尾。\n"
   ]
  },
  {
   "cell_type": "code",
   "execution_count": 3,
   "id": "4b12c319-4b11-4d37-8b0c-e461109ee88e",
   "metadata": {},
   "outputs": [
    {
     "name": "stdout",
     "output_type": "stream",
     "text": [
      "Hello\n",
      "World\n",
      "o\n"
     ]
    }
   ],
   "source": [
    "{\n",
    "    char str1[6] = {'H','e','l','l','o','\\0'};\n",
    "    char str2[] = \"World\";  // 自动在末尾加 '\\0'\n",
    "\n",
    "    printf(\"%s\\n\", str1);   // 输出 Hello\n",
    "    printf(\"%s\\n\", str2);   // 输出 World\n",
    "    printf(\"%c\\n\", str2[1]); // 输出 'o'\n",
    "}"
   ]
  },
  {
   "cell_type": "markdown",
   "id": "489f7ac6-f0b1-4d45-a086-ba98b0edbf02",
   "metadata": {},
   "source": [
    "## 4. 结构体\n",
    "\n",
    "数组的元素类型必须相同，而 结构体 可以存放不同类型的数据。"
   ]
  },
  {
   "cell_type": "code",
   "execution_count": 4,
   "id": "e88fd6be-83bb-49e7-9464-970cc2f5f915",
   "metadata": {},
   "outputs": [
    {
     "name": "stdout",
     "output_type": "stream",
     "text": [
      "姓名: Alice\n",
      "年龄: 18\n",
      "成绩: 95.5\n"
     ]
    }
   ],
   "source": [
    "{\n",
    "    struct Student {\n",
    "        char name[20];\n",
    "        int age;\n",
    "        float score;\n",
    "    };\n",
    "    //使用结构体\n",
    "    struct Student s1 = {\"Alice\", 18, 95.5};\n",
    "    \n",
    "    printf(\"姓名: %s\\n\", s1.name);\n",
    "    printf(\"年龄: %d\\n\", s1.age);\n",
    "    printf(\"成绩: %.1f\\n\", s1.score);\n",
    "}"
   ]
  },
  {
   "cell_type": "markdown",
   "id": "db477a27-c627-4c18-ba7b-1af15871644c",
   "metadata": {},
   "source": [
    "## 5. 结构体数组\n",
    "\n",
    "结构体也可以组成数组，方便批量存储。"
   ]
  },
  {
   "cell_type": "code",
   "execution_count": 5,
   "id": "7c00ba2b-311f-4a8f-a439-ef53b6db0dba",
   "metadata": {},
   "outputs": [
    {
     "name": "stdout",
     "output_type": "stream",
     "text": [
      "第2位学生: Bob, 成绩: 88.0\n"
     ]
    }
   ],
   "source": [
    "{\n",
    "    struct Student {\n",
    "        char name[20];\n",
    "        int age;\n",
    "        float score;\n",
    "    };\n",
    "    \n",
    "    struct Student classes[3] = {\n",
    "        {\"Alice\", 18, 95.5},\n",
    "        {\"Bob\", 19, 88.0},\n",
    "        {\"Cathy\", 20, 92.5}\n",
    "    };\n",
    "    \n",
    "    printf(\"第2位学生: %s, 成绩: %.1f\\n\", classes[1].name, classes[1].score);\n",
    "}"
   ]
  },
  {
   "cell_type": "markdown",
   "id": "52cbf7d8-9d22-425e-bbbc-5f4df5d77940",
   "metadata": {},
   "source": [
    "## 小结\n",
    "\t•\t数组 用于存储一组相同类型的数据；\n",
    "\t•\t字符串 本质是字符数组；\n",
    "\t•\t结构体 用于存储不同类型的数据；\n",
    "\t•\t结构体数组 可存储一组相同类型的结构体。"
   ]
  }
 ],
 "metadata": {
  "kernelspec": {
   "display_name": "C++17",
   "language": "cpp",
   "name": "xcpp17"
  },
  "language_info": {
   "codemirror_mode": "text/x-c++src",
   "file_extension": ".cpp",
   "mimetype": "text/x-c++src",
   "name": "C++",
   "version": "17"
  }
 },
 "nbformat": 4,
 "nbformat_minor": 5
}
