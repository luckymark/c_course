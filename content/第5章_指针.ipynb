{
 "cells": [
  {
   "cell_type": "markdown",
   "id": "40361b35",
   "metadata": {},
   "source": [
    "# 指针\n",
    "\n",
    "## 1. 什么是指针？\n",
    "- 指针是 **存储变量地址的变量**。\n",
    "- 在 C 语言中，每个变量都有一个地址，指针变量用于保存这个地址。\n",
    "\n",
    "### 地址运算符 `&`\n",
    "- `&a` 表示变量 `a` 的地址。"
   ]
  },
  {
   "cell_type": "markdown",
   "id": "1a96078a",
   "metadata": {},
   "source": [
    "## 2. 定义指针\n",
    "\n",
    "类型 *指针变量名;"
   ]
  },
  {
   "cell_type": "code",
   "execution_count": 1,
   "id": "b0dc2531",
   "metadata": {},
   "outputs": [
    {
     "name": "stdout",
     "output_type": "stream",
     "text": [
      "通过指针访问 a 的值: 10\n"
     ]
    }
   ],
   "source": [
    "#include <stdio.h>\n",
    "{\n",
    "    int a = 10;\n",
    "    int *p;    // 定义一个指向 int 的指针变量 p，此处未初始化，将指向一个随机地址，又称为“野指针”\n",
    "    p = &a;    // p 存储 a 的地址\n",
    "    printf(\"通过指针访问 a 的值: %d\\n\", *p); //\t•\t*p 表示取指针所指向的变量值（解引用）。\n",
    "}"
   ]
  },
  {
   "cell_type": "markdown",
   "id": "54c18b41",
   "metadata": {},
   "source": [
    "## 3. 指针与数组\n",
    "\n",
    "数组名本质上就是指针常量，指向数组第一个元素。"
   ]
  },
  {
   "cell_type": "code",
   "execution_count": 2,
   "id": "d276eaa1-4b56-4407-bc34-fad08c5eb3e4",
   "metadata": {},
   "outputs": [
    {
     "name": "stdout",
     "output_type": "stream",
     "text": [
      "10\n",
      "20\n",
      "30\n",
      "10 20 30 "
     ]
    }
   ],
   "source": [
    "{\n",
    "    int arr[3] = {10, 20, 30};\n",
    "    int *p = arr; // 等价于 p = &arr[0];\n",
    "    \n",
    "    printf(\"%d\\n\", *p);      // 10\n",
    "    printf(\"%d\\n\", *(p+1));  // 20\n",
    "    printf(\"%d\\n\", *(p+2));  // 30\n",
    "    //指针遍历数组\n",
    "    for (int i = 0; i < 3; i++) {\n",
    "        printf(\"%d \", *(p+i));\n",
    "    }\n",
    "}"
   ]
  },
  {
   "cell_type": "markdown",
   "id": "75beb62d-31c9-4d4f-8310-9c5113c83ad2",
   "metadata": {},
   "source": [
    "## 4. 指针与函数参数\n",
    "\n",
    "在 C 语言中，参数传递是 值传递。\n",
    "若要在函数内部修改实参值，需要传递 指针（地址）。"
   ]
  },
  {
   "cell_type": "code",
   "execution_count": 3,
   "id": "e8b5af13-4026-4458-aff3-0479c4ed8756",
   "metadata": {},
   "outputs": [
    {
     "name": "stdout",
     "output_type": "stream",
     "text": [
      "a=10, b=5\n"
     ]
    }
   ],
   "source": [
    "//示例：交换两个数\n",
    "void swap(int *x, int *y) {\n",
    "    int temp = *x;\n",
    "    *x = *y;\n",
    "    *y = temp;\n",
    "}\n",
    "\n",
    "{\n",
    "    int a = 5, b = 10;\n",
    "    swap(&a, &b);\n",
    "    printf(\"a=%d, b=%d\\n\", a, b); // a=10, b=5\n",
    "}"
   ]
  },
  {
   "cell_type": "markdown",
   "id": "8fa18af7-0747-4439-8905-e72c348eabb6",
   "metadata": {},
   "source": [
    "## 5. 指针与字符串\n",
    "\n",
    "字符串本质是字符数组，字符串常量的值是其首字符的地址。"
   ]
  },
  {
   "cell_type": "code",
   "execution_count": 4,
   "id": "377548ac-c9b8-4433-a754-2393b71b7226",
   "metadata": {},
   "outputs": [
    {
     "name": "stdout",
     "output_type": "stream",
     "text": [
      "Hello\n",
      "e\n"
     ]
    }
   ],
   "source": [
    "{\n",
    "    char str[] = \"Hello\";\n",
    "    char *p = str;\n",
    "    \n",
    "    printf(\"%s\\n\", p);   // Hello\n",
    "    printf(\"%c\\n\", *(p+1)); // e\n",
    "}"
   ]
  },
  {
   "cell_type": "markdown",
   "id": "eb52c0c8-b8cd-4572-bb13-19e66b6b3179",
   "metadata": {},
   "source": [
    "## 6. 指针与结构体\n",
    "\n",
    "可以使用指针访问结构体，常用 -> 运算符。"
   ]
  },
  {
   "cell_type": "code",
   "execution_count": 5,
   "id": "a987d0b3-5fb8-4aef-ac16-83efaa5c21c4",
   "metadata": {},
   "outputs": [
    {
     "name": "stdout",
     "output_type": "stream",
     "text": [
      "姓名: Alice\n",
      "年龄: 18\n"
     ]
    }
   ],
   "source": [
    "struct Student {\n",
    "    char name[20];\n",
    "    int age;\n",
    "};\n",
    "\n",
    "{\n",
    "    struct Student s = {\"Alice\", 18};\n",
    "    struct Student *p = &s;\n",
    "\n",
    "    printf(\"姓名: %s\\n\", p->name);\n",
    "    printf(\"年龄: %d\\n\", p->age);\n",
    "}"
   ]
  },
  {
   "cell_type": "markdown",
   "id": "8099dd3a-1e9b-4c35-b0db-18fe82ffc628",
   "metadata": {},
   "source": [
    "## 7. 指向指针的指针（二重指针）\n",
    "\n",
    "C 语言允许指针指向另一个指针。"
   ]
  },
  {
   "cell_type": "code",
   "execution_count": 6,
   "id": "d44b0893-59a8-4040-a827-1f26189e65df",
   "metadata": {},
   "outputs": [
    {
     "name": "stdout",
     "output_type": "stream",
     "text": [
      "10\n"
     ]
    }
   ],
   "source": [
    "{\n",
    "    int a = 10;\n",
    "    int *p = &a;\n",
    "    int **pp = &p;\n",
    "    \n",
    "    printf(\"%d\\n\", **pp); // 10\n",
    "}"
   ]
  },
  {
   "cell_type": "markdown",
   "id": "43b66407-7038-41aa-b865-fb2acfd52dc6",
   "metadata": {},
   "source": [
    "## 小结\n",
    "\t•\t指针是 地址的变量，* 用于取值，& 用于取地址；\n",
    "\t•\t数组名就是指针常量，可以用指针遍历数组；\n",
    "\t•\t指针常用于函数参数传递，以实现对实参的修改；\n",
    "\t•\t字符串与结构体都可以结合指针操作；\n",
    "\t•\tC 语言支持多级指针（指针的指针）。"
   ]
  }
 ],
 "metadata": {
  "kernelspec": {
   "display_name": "C++17",
   "language": "cpp",
   "name": "xcpp17"
  },
  "language_info": {
   "codemirror_mode": "text/x-c++src",
   "file_extension": ".cpp",
   "mimetype": "text/x-c++src",
   "name": "C++",
   "version": "17"
  }
 },
 "nbformat": 4,
 "nbformat_minor": 5
}
