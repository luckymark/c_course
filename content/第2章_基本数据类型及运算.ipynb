{
 "cells": [
  {
   "cell_type": "markdown",
   "id": "2891add6",
   "metadata": {
    "editable": true,
    "slideshow": {
     "slide_type": ""
    },
    "tags": []
   },
   "source": [
    "# 数据类型与变量\n",
    "\n",
    "在 C 语言中，**变量** 就像一个容器，用来存储数据。不同类型的数据需要不同类型的容器，这就是 **数据类型** 的作用。\n",
    "\n",
    "本节将学习：\n",
    "- 常见数据类型\n",
    "- 如何声明和使用变量\n",
    "- 输入输出变量\n",
    "- 类型转换"
   ]
  },
  {
   "cell_type": "markdown",
   "id": "88222e42",
   "metadata": {},
   "source": [
    "## 1. 常见数据类型\n",
    "\n",
    "C 语言中常见的基本数据类型有：\n",
    "\n",
    "### 整形（标准整数类型）：\n",
    "- `int`：整数，例如 `10`、`-5`\n",
    "- `short`：短整数\n",
    "- `long`：长整数\n",
    "- `char`：字符，例如 `'a'`、`'Z'` 在教材中，将char单独称为字符型，本质上char也是一种长度为1个字节的整数类型，既可以当作普通整数使用，也可以将其解释为一个字符（其值即为字符的ASCII码）\n",
    "\n",
    "整数符号类型：\n",
    "- `signed`：带符号数（默认类型，定义变量时可省略） \n",
    "- `unsigned`：无符号数\n",
    "\n"
   ]
  },
  {
   "cell_type": "markdown",
   "id": "5e1730fb-b58f-4433-9bc7-66244c1483de",
   "metadata": {},
   "source": [
    "#### 标准整数类型的存储大小与值范围\n",
    "\n",
    "下表列出了关于 **标准整数类型** 的存储大小和值范围的细节：\n",
    "\n",
    "| 类型             | 存储大小    | 值范围 |\n",
    "|------------------|-------------|------------------------------------------------|\n",
    "| `char`           | 1 字节      | -128 到 127 或 0 到 255 |\n",
    "| `unsigned char`  | 1 字节      | 0 到 255 |\n",
    "| `signed char`    | 1 字节      | -128 到 127 |\n",
    "| `int`            | 2 或 4 字节 | -32,768 到 32,767 或 -2,147,483,648 到 2,147,483,647 |\n",
    "| `unsigned int`   | 2 或 4 字节 | 0 到 65,535 或 0 到 4,294,967,295 |\n",
    "| `short`          | 2 字节      | -32,768 到 32,767 |\n",
    "| `unsigned short` | 2 字节      | 0 到 65,535 |\n",
    "| `long`           | 4 字节      | -2,147,483,648 到 2,147,483,647 |\n",
    "| `unsigned long`  | 4 字节      | 0 到 4,294,967,295 |\n",
    "\n",
    "---\n",
    "\n",
    "📌 **注意**：各种类型的存储大小与 **系统位数**、**操作系统**、**编译器** 有关，但目前大多数计算机都是 **64 位系统**。  "
   ]
  },
  {
   "cell_type": "markdown",
   "id": "d00d210e-ed3d-4d57-ab2a-99cefcbacbfe",
   "metadata": {
    "editable": true,
    "slideshow": {
     "slide_type": ""
    },
    "tags": []
   },
   "source": [
    "\n",
    "\n",
    "### 浮点型：\n",
    "- `float`：单精度浮点数（32位），，例如 `3.14`\n",
    "- `double`：双精度浮点数（64位），比 `float` 更精确、可表示数值范围更大\n",
    "\n",
    "头文件 float.h 定义了宏，在程序中可以使用这些值和其他有关实数二进制表示的细节。下面的实例将输出浮点类型占用的存储空间以及它的范围值："
   ]
  },
  {
   "cell_type": "code",
   "execution_count": 1,
   "id": "8a0bc080-4b16-4e1e-a621-039711c2482e",
   "metadata": {},
   "outputs": [
    {
     "name": "stdout",
     "output_type": "stream",
     "text": [
      "float 存储最大字节数 : 4 \n",
      "float 最小值: 1.175494E-38\n",
      "float 最大值: 3.402823E+38\n",
      "精度值: 6\n",
      "double 存储最大字节数 : 8 \n",
      "double 最小值: 2.225074E-308\n",
      "double 最大值: 1.797693E+308\n",
      "精度值: 15\n"
     ]
    }
   ],
   "source": [
    "#include <stdio.h>\n",
    "#include <float.h>\n",
    "{\n",
    "    printf(\"float 存储最大字节数 : %lu \\n\", sizeof(float));\n",
    "    printf(\"float 最小值: %E\\n\", FLT_MIN );\n",
    "    printf(\"float 最大值: %E\\n\", FLT_MAX );\n",
    "    printf(\"精度值: %d\\n\", FLT_DIG );\n",
    "\n",
    "    printf(\"double 存储最大字节数 : %lu \\n\", sizeof(double));\n",
    "    printf(\"double 最小值: %E\\n\", DBL_MIN );\n",
    "    printf(\"double 最大值: %E\\n\", DBL_MAX );\n",
    "    printf(\"精度值: %d\\n\", DBL_DIG );\n",
    "}"
   ]
  },
  {
   "cell_type": "markdown",
   "id": "bec55968-1de3-44db-b1fd-317184d43669",
   "metadata": {},
   "source": [
    "## 2. 声明变量\n",
    "\n",
    "语法：\n",
    "```c\n",
    "类型 变量名 = 初始值;\n",
    "```\n",
    "\n",
    "示例："
   ]
  },
  {
   "cell_type": "code",
   "execution_count": 2,
   "id": "a41ce63d",
   "metadata": {},
   "outputs": [
    {
     "name": "stdout",
     "output_type": "stream",
     "text": [
      "年龄: 18\n",
      "圆周率: 3.140000\n",
      "成绩等级: A\n"
     ]
    }
   ],
   "source": [
    "#include <stdio.h>\n",
    "{\n",
    "    unsigned int age = 18;\n",
    "    float pi = 3.14;\n",
    "    char grade = 'A';\n",
    "    \n",
    "    printf(\"年龄: %d\\n\", age);\n",
    "    printf(\"圆周率: %f\\n\", pi);\n",
    "    printf(\"成绩等级: %c\\n\", grade);\n",
    "}"
   ]
  },
  {
   "cell_type": "markdown",
   "id": "0205636e-1faa-4917-b518-9e0e09b27e10",
   "metadata": {},
   "source": [
    "为了得到某个类型或某个变量在特定平台上的准确大小，您可以使用 sizeof 运算符。表达式 sizeof(type) 得到对象或类型的存储字节大小。\n",
    "\n",
    "示例如下："
   ]
  },
  {
   "cell_type": "code",
   "execution_count": 3,
   "id": "1c110422-4263-47b7-ab60-84a83e926fc2",
   "metadata": {},
   "outputs": [
    {
     "name": "stdout",
     "output_type": "stream",
     "text": [
      "int 存储大小 : 4 \n",
      "x 存储大小 : 2 \n",
      "y 存储大小 : 8 \n",
      "z 存储大小 : 4 \n"
     ]
    }
   ],
   "source": [
    "{\n",
    "    printf(\"int 存储大小 : %lu \\n\", sizeof(int));\n",
    "\n",
    "    unsigned short x=10;\n",
    "    printf(\"x 存储大小 : %lu \\n\", sizeof(x));\n",
    "\n",
    "    long y=10;\n",
    "    printf(\"y 存储大小 : %lu \\n\", sizeof(y));\n",
    "\n",
    "    float z=10.;\n",
    "    printf(\"z 存储大小 : %lu \\n\", sizeof(z));\n",
    "}"
   ]
  },
  {
   "cell_type": "markdown",
   "id": "cd7ca504",
   "metadata": {
    "editable": true,
    "slideshow": {
     "slide_type": ""
    },
    "tags": []
   },
   "source": [
    "## 3. 变量的输入\n",
    "\n",
    "使用 `scanf` 函数从键盘输入数据。"
   ]
  },
  {
   "cell_type": "code",
   "execution_count": 4,
   "id": "55e581e1-e5b5-4496-884c-d41799feb488",
   "metadata": {},
   "outputs": [
    {
     "name": "stdout",
     "output_type": "stream",
     "text": [
      "请输入一个整数: 你输入的是: 10\n"
     ]
    }
   ],
   "source": [
    "{\n",
    "    int number;\n",
    "    printf(\"请输入一个整数: \");\n",
    "    scanf(\"%d\", &number); // 由于当前的 C++ kernel暂时还不支持scanf语句，该kernel会忽略scanf语句，后面的例子我们都使用直接赋值的方式代替scanf语句；\n",
    "    number = 10;\n",
    "    printf(\"你输入的是: %d\\n\", number);\n",
    "}"
   ]
  },
  {
   "cell_type": "markdown",
   "id": "d4aae2f8-fc15-4a87-9f0b-7fed8eb7840b",
   "metadata": {},
   "source": [
    "📌 注意：\n",
    "- `scanf` 需要在变量名前加上 `&`，表示把数据存入该变量的地址。\n",
    "- `%d` 表示读取整数。\n",
    "- 由于当前的 C++ kernel不支持scanf语句，暂时只能用C++的输入语句代替，示例如下："
   ]
  },
  {
   "cell_type": "code",
   "execution_count": 5,
   "id": "c14c7296-8809-40c2-b705-53824097dcd6",
   "metadata": {
    "editable": true,
    "slideshow": {
     "slide_type": ""
    },
    "tags": []
   },
   "outputs": [
    {
     "name": "stdout",
     "output_type": "stream",
     "text": [
      "请输入一个整数: "
     ]
    },
    {
     "name": "stdin",
     "output_type": "stream",
     "text": [
      " 100\n"
     ]
    },
    {
     "name": "stdout",
     "output_type": "stream",
     "text": [
      "你输入的是: 100\n"
     ]
    }
   ],
   "source": [
    "#include <iostream>\n",
    "{\n",
    "    int number;\n",
    "    std::cout<<\"请输入一个整数: \";\n",
    "    std::cin>>number;\n",
    "    printf(\"你输入的是: %d\\n\", number);\n",
    "}"
   ]
  },
  {
   "cell_type": "markdown",
   "id": "48f789e7-3faf-4cc2-b30f-bf3614919b6f",
   "metadata": {},
   "source": [
    "## 4. 多个变量\n",
    "\n",
    "你可以同时声明多个同类型变量。"
   ]
  },
  {
   "cell_type": "code",
   "execution_count": 6,
   "id": "be6ec941-71fc-4fcf-a787-0a952320d5be",
   "metadata": {},
   "outputs": [
    {
     "name": "stdout",
     "output_type": "stream",
     "text": [
      "x = 3, y = 4, 和 = 7\n"
     ]
    }
   ],
   "source": [
    "{\n",
    "    int x = 3, y = 4;\n",
    "    int sum = x + y;\n",
    "    printf(\"x = %d, y = %d, 和 = %d\\n\", x, y, sum);\n",
    "}"
   ]
  },
  {
   "cell_type": "markdown",
   "id": "73f9593f-23ce-46a8-aa17-2d97876ae764",
   "metadata": {},
   "source": [
    "## 5. 类型转换\n",
    "\n",
    "C 语言支持类型之间的转换。\n",
    "\n",
    "### 自动转换（隐式）\n",
    "小范围类型会自动提升到大范围类型，例如：  "
   ]
  },
  {
   "cell_type": "code",
   "execution_count": 7,
   "id": "a51c5235-bf58-4aed-b64a-52f279ad3e47",
   "metadata": {},
   "outputs": [],
   "source": [
    "{\n",
    "    int a = 5;\n",
    "    double b = 2.0;\n",
    "    double result = a + b; // a 自动转为 double\n",
    "}"
   ]
  },
  {
   "cell_type": "markdown",
   "id": "307ccd60-1597-4b8e-8cf0-c4fb8df13b12",
   "metadata": {
    "editable": true,
    "slideshow": {
     "slide_type": ""
    },
    "tags": []
   },
   "source": [
    "### 强制转换（显式）\n",
    "使用 `(类型)` 进行强制转换："
   ]
  },
  {
   "cell_type": "code",
   "execution_count": 8,
   "id": "875c252b-5e5c-40e4-91a6-d51b8519b378",
   "metadata": {},
   "outputs": [
    {
     "name": "stdout",
     "output_type": "stream",
     "text": [
      "7 / 2 = 3.500000\n"
     ]
    }
   ],
   "source": [
    "{\n",
    "    int a = 7, b = 2;\n",
    "    double result = (double)a / b;  //变量a的值被强制转换为double类型用于计算，但需注意变量a本身的类型并不会改变\n",
    "    printf(\"7 / 2 = %f\\n\", result);\n",
    "}"
   ]
  },
  {
   "cell_type": "markdown",
   "id": "ea725fcb-494e-4b5b-b514-500e51d60101",
   "metadata": {},
   "source": [
    "## 6. 🎯 练习"
   ]
  },
  {
   "cell_type": "code",
   "execution_count": 9,
   "id": "90dee29e-0985-4121-8ced-2dfec0713259",
   "metadata": {},
   "outputs": [],
   "source": [
    "//1. 计算正数平方。\n",
    "{\n",
    "    //声明一个整数变量 n，并初始化为10\n",
    "    //输出n的平方\n",
    "}"
   ]
  },
  {
   "cell_type": "code",
   "execution_count": 10,
   "id": "71f203bf-3de1-48b8-a43d-1e5cfb38de8d",
   "metadata": {},
   "outputs": [],
   "source": [
    "//2. 计算浮点数平均值\n",
    "{\n",
    "    //声明两个浮点数 x，y\n",
    "    //为x,y赋值\n",
    "    //输出x,y的平均值\n",
    "}"
   ]
  },
  {
   "cell_type": "code",
   "execution_count": 11,
   "id": "9b2aa972-15ff-449d-a843-681adcb2251a",
   "metadata": {},
   "outputs": [],
   "source": [
    "//3. 输出一个字符变量的 ASCII 码值（提示：%d 可以打印字符对应的整数）。\n",
    "{\n",
    "    //声明一个字符变量 c，初值为‘A’\n",
    "    //输出它的 ASCII 码值\n",
    "}"
   ]
  },
  {
   "cell_type": "code",
   "execution_count": 12,
   "id": "8ff8257d-22b2-41d1-8dc2-2c4075864107",
   "metadata": {},
   "outputs": [],
   "source": [
    "//4. 尝试用强制类型转换，把两个整数相除，得到小数结果。\n",
    "{\n",
    "    \n",
    "}"
   ]
  },
  {
   "cell_type": "code",
   "execution_count": null,
   "id": "c603fabf-614e-4d05-9e7e-df6de4c36806",
   "metadata": {},
   "outputs": [],
   "source": []
  }
 ],
 "metadata": {
  "kernelspec": {
   "display_name": "C++17",
   "language": "cpp",
   "name": "xcpp17"
  },
  "language_info": {
   "codemirror_mode": "text/x-c++src",
   "file_extension": ".cpp",
   "mimetype": "text/x-c++src",
   "name": "C++",
   "version": "17"
  }
 },
 "nbformat": 4,
 "nbformat_minor": 5
}
